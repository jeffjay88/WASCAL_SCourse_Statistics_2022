{
 "cells": [
  {
   "cell_type": "markdown",
   "id": "92b5db65",
   "metadata": {},
   "source": [
    "# Spatio-Temporal (Climate) Data Analysis\n",
    "*notebook by Jeffrey N. A. Aryee*\n",
    "\n",
    "\n",
    "<hr>\n",
    "<img align='center' width=700px src='img/JNAA_Profile.jpg'>\n",
    "\n",
    "<br />\n",
    "<p>\n",
    "    <font color='red'>YouTube:</font> <a href=\"https://www.youtube.com/channel/UCIjBRO4kq2a8sGOjZ1qM0wg\">https://www.youtube.com/@meteodata</a> <br />\n",
    "<font color='red'>Google Scholar:</font> <a href=\"https://scholar.google.com/citations?user=awGdXUsAAAAJ&hl=en\">https://scholar.google.com/citations?user=awGdXUsAAAAJ&hl=en</a> <br />\n",
    "<font color='red'>ResearchGate:</font> <a href=\"https://www.researchgate.net/profile/Jeffrey-Aryee\">https://www.researchgate.net/profile/Jeffrey-Aryee</a> <br />\n",
    "<font color='red'>ORCID:</font> <a href=\"https://orcid.org/0000-0002-4481-1441\">https://orcid.org/0000-0002-4481-1441</a> <br />\n",
    "    <font color='red'>Facebook:</font> <a href=\"https://www.facebook.com/honourable.gyerph.7/\">https://www.facebook.com/honourable.gyerph.7/</a>  <br/>\n",
    "<font color='red'>LinkedIn:</font> <a href=\"https://www.linkedin.com/in/jnaaryee/\">https://www.linkedin.com/in/jnaaryee/</a> <br />\n",
    "<font color='red'>E-mail:</font> jnaaryee@knust.edu.gh / metdata.knust@gmail.com\n",
    "</p>\n",
    "<hr>\n",
    "<br />\n",
    "<br />\n",
    "<h2> <a href=\"https://github.com/jeffjay88/WASCAL_SCourse_Statistics_2022\"><font color='red'>Notebook is accessible here</font></a></h2>\n",
    "\n",
    "\n",
    "<br />\n",
    "<br />\n",
    "<br />"
   ]
  },
  {
   "cell_type": "markdown",
   "id": "9df457d0",
   "metadata": {},
   "source": [
    "# Objectives\n",
    "<h2> At the end of this module, participants must be able to </h2>\n",
    "<ol>\n",
    "<li>\t<h4>Perform simplistic (climate) statistical assessments using a combination of Python programming tools and (climate) data</h4> </li>\n",
    "<li>\t<h4>Simply visualize (climate) temporal statistics using Taylor Diagrams / verification charts.</h4> </li>\n",
    "<li>\t<h4>Interpret (climate) data statistics and effectively communicate to research stakeholders / data dependents.</h4> </li>\n",
    "</ol>\n",
    "\n",
    "\n",
    "# Outline\n",
    "\n",
    "\n",
    "1. Python Basics/Fundamentals\n",
    "2. Basic Statistics \n",
    "3. Mann-Kendall Trend Test\n",
    "4. Correlation and Causality\n",
    "5. Accuracy and Precision Testing\n",
    "\n",
    "\n",
    "\n",
    "\n",
    "# <font color='red'><font color='blue'>Focus:</font>   Statistical Assessments On Both Tabular and Multi-Dimensional Data </font>"
   ]
  },
  {
   "cell_type": "code",
   "execution_count": null,
   "id": "12343de7",
   "metadata": {},
   "outputs": [],
   "source": [
    "#!conda install -c conda-forge cartopy\n",
    "\n",
    "'''\n",
    "!git clone https://github.com/SciTools/cartopy.git\n",
    "!cd cartopy\n",
    "! python -m pip install --upgrade pip\n",
    "!python setup.py install\n",
    "\n",
    "!pip --version\n",
    "'''"
   ]
  },
  {
   "cell_type": "code",
   "execution_count": null,
   "id": "56700ca1-2dab-4ba0-97e9-96e257a97acd",
   "metadata": {},
   "outputs": [],
   "source": []
  },
  {
   "cell_type": "markdown",
   "id": "1d3ebd9a",
   "metadata": {},
   "source": [
    "A Quick Look @ Python Basics\n",
    "--\n",
    "\n",
    "<h2>Look-up: <a>https://github.com/jeffjay88/OneQuantum-Ghana</a></h2>\n"
   ]
  },
  {
   "cell_type": "markdown",
   "id": "51e7c84e-05ac-4566-8d9f-3a84023270c2",
   "metadata": {},
   "source": [
    "# Iterations In Python\n",
    "\n",
    "# while & for loops"
   ]
  },
  {
   "cell_type": "code",
   "execution_count": null,
   "id": "23aa753d-d10f-45d9-8443-df424854b7f4",
   "metadata": {},
   "outputs": [],
   "source": [
    "#eg.\n",
    "for i in [1,2,3,4,5]:\n",
    "    print(i, i**3)"
   ]
  },
  {
   "cell_type": "code",
   "execution_count": null,
   "id": "79fc2a81-1f1d-425b-a388-3c240695ed45",
   "metadata": {},
   "outputs": [],
   "source": [
    "i = 1\n",
    "while i<=5:\n",
    "    print(i, i**3)\n",
    "    i+=1"
   ]
  },
  {
   "cell_type": "markdown",
   "id": "31c2f678",
   "metadata": {},
   "source": [
    "# Python Functions & Lambda Expressions\n",
    "*def   function_name* (arg1, arg2 ...,argn): <br>\n",
    "\n",
    "        statements\n",
    "        return\n",
    "        \n",
    "<p3> The variables *arg1*,*arg2*,*argn* are the parameters needed for the execution of the function's *statements*</p3>\n",
    "<br />\n",
    "    \n",
    "\n",
    "LAMBDA EXPRESSIONS\n",
    "--\n",
    "\n",
    "function/expression name = lambda argument(s):execution/action\n",
    "\n",
    "<h4> Eg. </h4>"
   ]
  },
  {
   "cell_type": "code",
   "execution_count": null,
   "id": "e4d48755",
   "metadata": {},
   "outputs": [],
   "source": [
    "def temp_converter_def(t):\n",
    "    k = t+273.15\n",
    "    return k"
   ]
  },
  {
   "cell_type": "code",
   "execution_count": null,
   "id": "65c39ec8",
   "metadata": {},
   "outputs": [],
   "source": [
    "temp_converter_def(23)"
   ]
  },
  {
   "cell_type": "code",
   "execution_count": null,
   "id": "f14e869e",
   "metadata": {},
   "outputs": [],
   "source": [
    "temp_converter_lbd = lambda t: t+273.15"
   ]
  },
  {
   "cell_type": "code",
   "execution_count": null,
   "id": "4dcae78b",
   "metadata": {},
   "outputs": [],
   "source": [
    "temp_converter_lbd(25)"
   ]
  },
  {
   "cell_type": "code",
   "execution_count": null,
   "id": "e3d5dede",
   "metadata": {},
   "outputs": [],
   "source": []
  },
  {
   "cell_type": "markdown",
   "id": "d41c9afd",
   "metadata": {},
   "source": [
    "# Let's Attempt Scripting Some of These Functions And Apply On Ascii Data"
   ]
  },
  {
   "cell_type": "markdown",
   "id": "6f858765",
   "metadata": {},
   "source": [
    "<h2><font color='red'>Mean/Average ($\\mu$):</font></h2>  $$ \\LARGE \\mu_x = \\frac{\\sum{x}}{n}$$\n",
    "<br />\n",
    "\n",
    "<h2><font color='red'>Standard Deviation ($\\sigma$):</font></h2> \n",
    "The standard deviation of a set of data measures how spread out the data is. It is the square root of the variance of the data set. The variance is the average of the squares of the differences between each value and the mean (average / climatology) of the data values.\n",
    "\n",
    "$$ \\LARGE \\sigma = \\sqrt \\frac{\\sum{(x - \\mu_x)^2}}{n - 1} $$"
   ]
  },
  {
   "cell_type": "code",
   "execution_count": null,
   "id": "2f3d8e75",
   "metadata": {},
   "outputs": [],
   "source": [
    "def sum(x):\n",
    "    total = 0\n",
    "    for i in x:\n",
    "        total += i\n",
    "    return total\n",
    "\n",
    "\n",
    "def mean(x):\n",
    "    total = 0\n",
    "    for i in x:\n",
    "        total += i\n",
    "    return total/len(x)\n",
    "\n",
    "def sdev(x):\n",
    "    num = 0\n",
    "    for i in x:\n",
    "        num += (i - mean(x))**2\n",
    "    return (num / (len(x)-1) ) ** 0.5\n",
    "    "
   ]
  },
  {
   "cell_type": "code",
   "execution_count": null,
   "id": "1dc80db0",
   "metadata": {},
   "outputs": [],
   "source": [
    "average = lambda x: sum(x)/len(x)"
   ]
  },
  {
   "cell_type": "code",
   "execution_count": null,
   "id": "1bb33dea",
   "metadata": {},
   "outputs": [],
   "source": [
    "mean([12,23,2,3])"
   ]
  },
  {
   "cell_type": "code",
   "execution_count": null,
   "id": "01674af9",
   "metadata": {},
   "outputs": [],
   "source": [
    "average([12,23,2,3.5])"
   ]
  },
  {
   "cell_type": "code",
   "execution_count": null,
   "id": "07ed2928",
   "metadata": {},
   "outputs": [],
   "source": [
    "sdev([12,23,2,3])"
   ]
  },
  {
   "attachments": {},
   "cell_type": "markdown",
   "id": "bc504827",
   "metadata": {},
   "source": [
    "<img align='right' width='400px' src='img/catchyoulater.jpg' />\n",
    "\n",
    "<br /><br /><br /><br /><br /><br />\n",
    "<font color='red'><h1> This will be useful later in the material </h1></font>   \n"
   ]
  },
  {
   "cell_type": "code",
   "execution_count": null,
   "id": "857f009b",
   "metadata": {},
   "outputs": [],
   "source": []
  },
  {
   "cell_type": "markdown",
   "id": "84c63929",
   "metadata": {},
   "source": [
    "<p><h3>Fundamental Python Packages</h3></p>\n",
    "Python has libraries for almost every activity. With advancing technologies, libraries are almost widely and readily available and can be called into the Python terminal for use, with the import function. Some of these libraries include numpy, scipy, etc. In this course, our emphasis will be on numpy, scipy, matplotlib, pandas, SymPy, seaborn, to name a few.\n",
    "\n",
    "Let's delve more into them.\n",
    "\n",
    "<br />\n",
    "\n",
    "<h3>IMPORTING/LOADING PACKAGES</h3>\n",
    "<strong><font color='red'>Option 1:</font></strong> import package <br />\n",
    "<strong><font color='red'>Option 2:</font></strong> import package as pkg<br />\n",
    "<strong><font color='red'>Option 3:</font></strong> from package import pkg_item<br />\n",
    "<strong><font color='red'>Option 4:</font></strong> from package import pkg_item as pkg<br />\n",
    "\n",
    "We will try a few after introducing them. Usually, you should place your imports at the top of the notebook.\n",
    "\n"
   ]
  },
  {
   "cell_type": "code",
   "execution_count": null,
   "id": "7fc62b42",
   "metadata": {},
   "outputs": [],
   "source": [
    "import numpy as np"
   ]
  },
  {
   "cell_type": "code",
   "execution_count": null,
   "id": "56057caa",
   "metadata": {},
   "outputs": [],
   "source": [
    "a = [1,2,3,4,5,6,7,8,9,0]\n",
    "\n",
    "np.sum(a)"
   ]
  },
  {
   "cell_type": "code",
   "execution_count": null,
   "id": "4a21ccf7",
   "metadata": {},
   "outputs": [],
   "source": [
    "np.mean(a)"
   ]
  },
  {
   "cell_type": "code",
   "execution_count": null,
   "id": "c236d9d7",
   "metadata": {},
   "outputs": [],
   "source": [
    "np.std(a)"
   ]
  },
  {
   "cell_type": "code",
   "execution_count": null,
   "id": "9fe09e73",
   "metadata": {},
   "outputs": [],
   "source": [
    "np.var(a)"
   ]
  },
  {
   "cell_type": "code",
   "execution_count": null,
   "id": "b60afbaa",
   "metadata": {},
   "outputs": [],
   "source": []
  },
  {
   "cell_type": "markdown",
   "id": "78acf356-cda7-49f1-b44a-978be4df928f",
   "metadata": {},
   "source": [
    "# Python has several pre-built packages to handle a lot of our day-to-day activities. This reduces the burden of writing functions from scratch. However, a good understanding of the respective syntax is needed to maximize the package's full potential.\n",
    "\n",
    "<font color='red'><h3>There are serveral packages to read different data sets, such as numpy, scipy, pandas, xarray, etc... Let's start off by reading in some data.</h3></font>\n",
    "\n",
    "\n",
    "\n",
    "# Packages that will be used in this module include:\n",
    "\n",
    "<ul>\n",
    "    <li><h3> numpy </h3></li>\n",
    "    <li><h3> scipy </h3></li>\n",
    "    <li><h3> matplotlib </h3></li>\n",
    "    <li><h3> pandas </h3></li>\n",
    "    <li><h3> xarray </h3></li>\n",
    "    <li><h3> statsmodels </h3></li>\n",
    "    <li><h3> causality </h3></li>\n",
    "    <li><h3> pymannkendall </h3></li>\n",
    "    <li><h3> glob </h3></li>\n",
    "    <li><h3> splot </h3></li>\n",
    "    <li><h3> geopandas </h3></li>\n",
    "    <li><h3> verif </h3></li>\n",
    "</ul>"
   ]
  },
  {
   "cell_type": "markdown",
   "id": "842ab0ab",
   "metadata": {},
   "source": [
    "# Let's kick it off with pandas"
   ]
  },
  {
   "cell_type": "markdown",
   "id": "3628d460",
   "metadata": {},
   "source": [
    "# pandas - working with tabular data\n",
    "The `pandas` library is the best python package for working with tabular data (i.e. data that is organised into rows and columns) and is one of the most preferred tools for data scientists to perform data manipulation and analysis. It is built on fundamental libraries, such as, `matplotlib` for data visualization and `numpy`, for scientific computing. The fast, flexible `pandas` data structures are designed to make real-world data analysis significantly easier, however it takes consistency in practice to master.\n",
    "\n",
    "\n",
    "## What's pandas for?\n",
    "\n",
    "Pandas has so many uses. It is essentially your data’s home. Through `pandas`, you get acquainted with your data by cleaning, transforming, and analyzing it. There are numerous tasks you can perform with Pandas on a dataset, which include but is not limited to:\n",
    "\n",
    "- Calculating statistics of the data, and making inferrence such as\n",
    "    - What's the average, median, max, or min of each column?\n",
    "    - Does column A correlate with column B?\n",
    "    - What does the distribution of data in column C look like?, etc.\n",
    "- Clean the data (eg. removing missing values and filtering rows or columns by certain criteria)\n",
    "- Visualize the data with help from Matplotlib or Seaborn. \n",
    "- Store the cleaned, transformed data into other file."
   ]
  },
  {
   "cell_type": "code",
   "execution_count": null,
   "id": "19de17b6-6ef3-42a6-9421-5a5371b0b1fb",
   "metadata": {},
   "outputs": [],
   "source": [
    "import pandas as pd\n",
    "import numpy as np\n",
    "import matplotlib.pyplot as plt\n",
    "import matplotlib.patches as mpatches"
   ]
  },
  {
   "cell_type": "code",
   "execution_count": null,
   "id": "3a87a5f6-054b-4e49-8888-43843c26d853",
   "metadata": {},
   "outputs": [],
   "source": [
    "df_data = pd.read_csv('data/Tamale_CRU_rainfall.csv')\n",
    "\n",
    "df_data['Year'] = df_data.PRE.dropna().astype('int').astype('str')\n",
    "df_data = df_data.drop(['PRE','Unnamed: 13'], axis=1).set_index('Year')\n",
    "df_RR = df_data.dropna()"
   ]
  },
  {
   "cell_type": "code",
   "execution_count": null,
   "id": "ab0dd1b7-298d-4c48-8c6a-03952f9f3153",
   "metadata": {},
   "outputs": [],
   "source": [
    "df_RR.head()"
   ]
  },
  {
   "cell_type": "markdown",
   "id": "d6dea544-127a-4436-ac35-8799502b7824",
   "metadata": {},
   "source": [
    "# Let's attempt a boxplot to describe different climatologies"
   ]
  },
  {
   "cell_type": "markdown",
   "id": "6208aae7-0d48-4aba-8c08-d9bd3bd50db9",
   "metadata": {},
   "source": [
    "<h3><a href=\"https://www.nature.com/articles/nmeth.2813#:~:text=Box%20plots%20are%20a%20simple%20but\">Box plots</a> characterize a sample using the 25th, 50th and 75th percentiles—also known as the lower quartile (Q1), median (m or Q2) and upper quartile (Q3)—and the interquartile range (IQR = Q3 − Q1), which covers the central 50% of the data. Quartiles are insensitive to outliers and preserve information about the center and spread. Consequently, they are preferred over the mean and s.d. for population distributions that are asymmetric or irregularly shaped and for samples with extreme outliers. In such cases these measures may be difficult to intuitively interpret: the mean may be far from the bulk of the data, and conventional rules for interpreting the s.d. will likely not apply. </h3>\n",
    "\n",
    "<img width=\"1100px\" align=\"left\" src=\"img/box_whisker_1.webp\" />\n",
    "<img width=\"320px\" align=\"middle\" margin=\"25px\" src=\"img/box_whisker_2.webp\" />\n"
   ]
  },
  {
   "attachments": {
    "image.png": {
     "image/png": "[encoded data removed]"
    }
   },
   "cell_type": "markdown",
   "id": "4ef7c58b",
   "metadata": {},
   "source": [
    "![image.png](attachment:image.png)"
   ]
  },
  {
   "cell_type": "code",
   "execution_count": null,
   "id": "a09ae5f7",
   "metadata": {},
   "outputs": [],
   "source": [
    "df_RR"
   ]
  },
  {
   "cell_type": "code",
   "execution_count": null,
   "id": "c9949e61-0522-4a69-89f0-a40f81c5ab4f",
   "metadata": {},
   "outputs": [],
   "source": [
    "fig, ax = plt.subplots(figsize=(9,4))\n",
    "df_RR.loc['1901':'1960'].boxplot(showfliers=False, color='b', positions=np.arange(len(df_RR.columns))-0.15, widths=0.3, ax=ax)\n",
    "df_RR.loc['1961':].boxplot(showfliers=False, color='r', positions=np.arange(len(df_RR.columns))+0.15, widths=0.3, ax=ax)\n",
    "\n",
    "ax.set_xticks(np.arange(len(df_RR.columns)), df_RR.columns)\n",
    "red_patch = mpatches.Patch(color='red', label='Pre-Industrial')\n",
    "blue_patch = mpatches.Patch(color='blue', label='Industrial')\n",
    "ax.legend(handles=[red_patch, blue_patch])\n"
   ]
  },
  {
   "cell_type": "code",
   "execution_count": null,
   "id": "1d969b10-e0b9-42a7-849d-e2c58bde358b",
   "metadata": {},
   "outputs": [],
   "source": [
    "fig, axes = plt.subplots(ncols=2,figsize=(15,3.5))\n",
    "plt.subplots_adjust(wspace=0.5)\n",
    "df_RR.loc['1901':'1960'].boxplot(showfliers=False, color='b', positions=np.arange(len(df_RR.columns))-0.15, widths=0.3, ax=axes[0])\n",
    "df_RR.loc['1961':].boxplot(showfliers=False, color='r', positions=np.arange(len(df_RR.columns))+0.15, widths=0.3, ax=axes[0])\n",
    "\n",
    "red_patch = mpatches.Patch(color='red', label='Pre-Industrial')\n",
    "blue_patch = mpatches.Patch(color='blue', label='Industrial')\n",
    "axes[0].legend(handles=[red_patch, blue_patch])\n",
    "\n",
    "axes[0].set_xticks(np.arange(len(df_RR.columns)), df_RR.columns)\n",
    "axes[0].set_ylabel('Rainfall [mm]', fontsize=12) \n",
    "\n",
    "\n",
    "\n",
    "# Climatological Differences\n",
    "(\n",
    "df_RR.loc['1961':].describe().iloc[3:] - df_RR.loc['1901':'1960'].describe().iloc[3:]\n",
    ").boxplot(showfliers=False, color='g', positions=np.arange(len(df_RR.columns))+0.15, widths=0.3, ax=axes[1])\n",
    "\n",
    "diff_patch = mpatches.Patch(color='g', label='Change')\n",
    "axes[1].legend(handles=[diff_patch])\n",
    "axes[1].axhline(y=0, color='k', linewidth=5, linestyle='--', zorder=-5)\n",
    "axes[1].set_ylabel('Change [mm]', fontsize=12) \n",
    "\n"
   ]
  },
  {
   "cell_type": "markdown",
   "id": "d3e21e5f-c970-450a-b436-44951090d45f",
   "metadata": {},
   "source": [
    "<h2>Trial Question</h2>\n",
    "\n",
    "<h3> A. </h3>\n",
    "    - Let's attempt to reproduce same using the temperature dataset for same location. <br />\n",
    "\n",
    "<h3> B. </h3>\n",
    "    - Split the data into 30 year climate regimes. <br />\n",
    "    - With the first 30 years as your historical period, describe the relative change along the successive 30 year periods "
   ]
  },
  {
   "cell_type": "code",
   "execution_count": null,
   "id": "42c1800e-a18e-4407-ae04-350768f2f839",
   "metadata": {},
   "outputs": [],
   "source": []
  },
  {
   "cell_type": "markdown",
   "id": "fb8b79da-91c4-4f69-a0f5-6fa7e17bb296",
   "metadata": {},
   "source": [
    "# Anomalies (Variability), Standardized Anomalies (z-score / z-statistics) & The Z-Table (Probability)\n",
    "\n",
    "something that deviates from what is standard, normal, or expected:"
   ]
  },
  {
   "cell_type": "code",
   "execution_count": null,
   "id": "72515bf2-1592-4e27-a4e1-401ba1c2e86d",
   "metadata": {},
   "outputs": [],
   "source": [
    "from scipy import stats\n",
    "\n",
    "def anomaly(x):\n",
    "    return x-x.mean()\n",
    "\n",
    "def z_score(x):\n",
    "    return stats.zscore(x)\n",
    "    #return (x - x.mean())/x.std()\n",
    "\n",
    "def prob(x, alpha=0.05, n_sided=1):\n",
    "    from scipy.stats import norm\n",
    "    \n",
    "    z_crit = norm.ppf( 1 - alpha/n_sided)\n",
    "    return z_crit\n"
   ]
  },
  {
   "cell_type": "code",
   "execution_count": null,
   "id": "7ee08ddf",
   "metadata": {},
   "outputs": [],
   "source": [
    "from scipy import stats\n",
    "df_RR_std_anom.plot()\n",
    "plt.plot(stats.zscore(df_RR.sum(axis=1)).to_numpy().flatten(), color='r')"
   ]
  },
  {
   "cell_type": "code",
   "execution_count": null,
   "id": "252d0956",
   "metadata": {},
   "outputs": [],
   "source": [
    "prob(df_RR,alpha=0.1, n_sided=2)"
   ]
  },
  {
   "cell_type": "code",
   "execution_count": null,
   "id": "299d12dc",
   "metadata": {},
   "outputs": [],
   "source": [
    "df_RR"
   ]
  },
  {
   "cell_type": "code",
   "execution_count": null,
   "id": "5650718e-ee2d-4eed-978a-a76cf6a0aeb3",
   "metadata": {},
   "outputs": [],
   "source": [
    "fig, axes = plt.subplots(ncols=2, nrows=2, figsize=(15,8))\n",
    "plt.subplots_adjust(wspace=0.25, hspace=0.3)\n",
    "\n",
    "ax = axes[0,0]\n",
    "df_RR_anom.plot.bar(ax = ax, width=1.25, edgecolor='k')\n",
    "ax.set_xticks(range(0,df_RR_anom.shape[0],10), range(1901,2020,10), rotation=0)\n",
    "ax.set_ylabel('Anomaly', fontsize=14)\n",
    "\n",
    "ax = axes[0,1]\n",
    "df_RR_anom.loc['1901':'1960'].plot(kind='kde', ax=ax, color='r')\n",
    "df_RR_anom.loc['1961':].plot(kind='kde', ax=ax, color='g')\n",
    "\n",
    "ax.text(400, 0.0025,'mean = {:.2f} \\nstd={:.2f}'.format(df_RR_anom.loc['1901':'1960'].mean(), df_RR_anom.loc['1901':'1960'].std()), color='r')\n",
    "ax.text(-400, 0.0025,'mean = {:.2f} \\nstd={:.2f}'.format(df_RR_std_anom.loc['1901':'1960'].mean(), df_RR_anom.loc['1901':'1960'].std()), color='g')\n",
    "\n",
    "\n",
    "ax = axes[1,0]\n",
    "df_RR_std_anom.plot.bar(ax = ax, width=1.25, edgecolor='k')\n",
    "ax.set_xticks(range(0,df_RR_std_anom.shape[0],10), range(1901,2020,10), rotation=0)\n",
    "ax.set_ylabel('Standardized Anomaly', fontsize=14)\n",
    "\n",
    "\n",
    "ax = axes[1,1]\n",
    "df_RR_std_anom.loc['1901':'1960'].plot(kind='kde', ax=ax, color='r')\n",
    "df_RR_std_anom.loc['1961':].plot(kind='kde', ax=ax, color='g')\n",
    "\n",
    "[ ax.axvline(x, color='k', linestyle='--') for x in [-2, -1,1, 2] ]\n",
    "ax.text(4, 0.35,'mean = {:.1f} \\nstd={:.1f}'.format(df_RR_std_anom.loc['1901':'1960'].mean(), df_RR_std_anom.loc['1901':'1960'].std()), color='r')\n",
    "ax.text(-4.5, 0.35,'mean = {:.1f} \\nstd={:.1f}'.format(df_RR_std_anom.loc['1961':].mean(), df_RR_std_anom.loc['1961':].std()), color='g')\n"
   ]
  },
  {
   "cell_type": "code",
   "execution_count": null,
   "id": "d79b8fd4-b8d9-4477-8a8d-072b0d89f42f",
   "metadata": {},
   "outputs": [],
   "source": []
  },
  {
   "cell_type": "code",
   "execution_count": null,
   "id": "d2122592",
   "metadata": {},
   "outputs": [],
   "source": [
    "import statistics\n",
    "mean = 7\n",
    "standard_deviation = 1.3\n",
    "\n",
    "zscore = statistics.NormalDist().inv_cdf((1-0.1)/2)#.zscore(5)\n",
    "print(zscore)\n"
   ]
  },
  {
   "cell_type": "code",
   "execution_count": null,
   "id": "a3337c54",
   "metadata": {},
   "outputs": [],
   "source": [
    "statistics.NormalDist().cdf(zscore-1) * 2 - 1"
   ]
  },
  {
   "cell_type": "markdown",
   "id": "2b0ebe65",
   "metadata": {},
   "source": [
    "# Quantiles, Percentiles, Quartiles\n",
    "\n",
    "<font color='red'><h2>Quantile: Compute the q-th quantile of the data along the specified axis.</h2></font>\n",
    "<font color='red'><h2>Percentile: Compute the q-th percentile of the data along the specified axis.</h2></font>\n",
    "<font color='red'><h2>Quantile: Compute the q-th quantile of the data along the specified axis.</h2></font>"
   ]
  },
  {
   "cell_type": "code",
   "execution_count": null,
   "id": "195a967e",
   "metadata": {},
   "outputs": [],
   "source": [
    "fig, axes = plt.subplots(ncols=2, figsize=(12,4))\n",
    "\n",
    "# Quantiles\n",
    "ax = axes[0]\n",
    "df_RR.apply(np.nanquantile, q=.95).plot(ax = ax)\n",
    "df_RR.apply(np.nanquantile, q=.75).plot(ax = ax)\n",
    "df_RR.apply(np.nanquantile, q=.05).plot(ax = ax)\n",
    "\n",
    "ax.set_ylim(0,320)\n",
    "\n",
    "\n",
    "# Percentiles\n",
    "ax = axes[1]\n",
    "df_RR.apply(np.nanpercentile, q=95).plot(ax = ax)\n",
    "df_RR.apply(np.nanpercentile, q=75).plot(ax = ax)\n",
    "df_RR.apply(np.nanpercentile, q=5).plot(ax = ax)\n",
    "ax.set_ylim(0,320)\n",
    "\n"
   ]
  },
  {
   "cell_type": "markdown",
   "id": "025248cd",
   "metadata": {},
   "source": [
    "<font color='red'><h3>A Q-Q plot, short for “quantile-quantile” plot, is often used to assess whether or not a set of data potentially came from some theoretical distribution. In most cases, this type of plot is used to determine whether or not a set of data follows a normal distribution. </h3></font>\n",
    "\n",
    "\n",
    "# Example: Q-Q Plot in Python"
   ]
  },
  {
   "cell_type": "code",
   "execution_count": null,
   "id": "2e7eedbc",
   "metadata": {},
   "outputs": [],
   "source": [
    "import statsmodels.api as sm\n",
    "import statsmodels.formula.api as smf\n",
    "\n",
    "#create Q-Q plot with 45-degree line added to plot\n",
    "ax = sm.qqplot(data = df_RR.sum(axis=1), line='s')\n"
   ]
  },
  {
   "cell_type": "code",
   "execution_count": null,
   "id": "e40561f0",
   "metadata": {},
   "outputs": [],
   "source": [
    "ax = sm.qqplot(data = df_RR_std_anom, line='s')"
   ]
  },
  {
   "cell_type": "code",
   "execution_count": null,
   "id": "520a3f7d",
   "metadata": {},
   "outputs": [],
   "source": [
    "sm.qqplot(data = df_RR.to_numpy().flatten(), line='s')"
   ]
  },
  {
   "cell_type": "markdown",
   "id": "e5c14177",
   "metadata": {},
   "source": [
    "<h1> <a href=\"https://www.statology.org/quantile-regression-in-python/\"> Quantile Regression </a> </h1>\n",
    "\n",
    "<font color='red'><h3> Quantile regression is simply an extended version of linear regression. Quantile regression constructs a relationship between a group of variables (also known as independent variables) and quantiles (also known as percentiles) dependent variables. </h3></font>\n",
    "\n",
    "\n",
    "# Perform quantile regression"
   ]
  },
  {
   "cell_type": "markdown",
   "id": "043d97db",
   "metadata": {},
   "source": [
    "# We need both a dependent and an independet list\n",
    "# For demonstration purposes, let use any 2 columns of the df_RR DataFrame, which may not necessarily show any linear relationship."
   ]
  },
  {
   "cell_type": "code",
   "execution_count": null,
   "id": "2a9f2ae6",
   "metadata": {},
   "outputs": [],
   "source": [
    "# fit the model\n",
    "model = smf.quantreg('Jan~Feb',df_RR).fit(q=0.7)\n",
    " \n",
    "# view model summary\n",
    "print(model.summary())"
   ]
  },
  {
   "cell_type": "markdown",
   "id": "7bed7ee8",
   "metadata": {},
   "source": [
    "# We Attempt To Visualize It"
   ]
  },
  {
   "cell_type": "code",
   "execution_count": null,
   "id": "129afc6a",
   "metadata": {},
   "outputs": [],
   "source": [
    "fig, ax = plt.subplots(figsize=(10, 8))\n",
    " \n",
    "# get y values\n",
    "y_line = lambda a, b: a + df_RR.Feb\n",
    "y = y_line(model.params['Intercept'],\n",
    "           model.params['Feb'])\n",
    " \n",
    "# Plotting data points with the help\n",
    "# pf quantile regression equation\n",
    "ax.plot(df_RR.Feb, y, color='black')\n",
    "ax.scatter(df_RR.Feb, df_RR.Jan, alpha=.3)\n",
    "ax.set_xlabel('Feb', fontsize=20)\n",
    "ax.set_ylabel('Jan', fontsize=20)"
   ]
  },
  {
   "cell_type": "markdown",
   "id": "09ebe88e",
   "metadata": {},
   "source": [
    "# Trial Question\n",
    "    - Load in your own data and perform a Q-Q plot, Quantile regression and visualize it."
   ]
  },
  {
   "cell_type": "code",
   "execution_count": null,
   "id": "7049a257",
   "metadata": {},
   "outputs": [],
   "source": []
  },
  {
   "cell_type": "markdown",
   "id": "88c2e05d-f8ae-4dc1-b714-ba5c85e9f725",
   "metadata": {},
   "source": [
    "# Mann-Kendall (MK) Test Assessment using pymannkendall library"
   ]
  },
  {
   "cell_type": "markdown",
   "id": "4f0f4c4c",
   "metadata": {},
   "source": [
    "The Mann-Kendall Trend Test (sometimes called the MK test) is used to analyze time series data for consistently increasing or decreasing trends (monotonic trends). It is a non-parametric test, which means it works for all distributions (i.e. data doesn't have to meet the assumption of normality), but data should have no serial correlation. If the data has a serial correlation, it could affect in significant level (p-value).\n",
    "\n",
    "\n",
    "<font color = 'red'><h4>Function details:</h4></font>\n",
    "All Mann-Kendall test functions have almost similar input parameters. Those are:\n",
    "\n",
    "* x: a vector (list, numpy array or pandas series) data\n",
    "* alpha: significance level (0.05 is the default)\n",
    "* lag: No. of First Significant Lags (Only available in hamed_rao_modification_test and yue_wang_modification_test)\n",
    "* period: seasonal cycle. For monthly data it is 12, weekly data it is 52 (Only available in seasonal tests)\n",
    "\n",
    "\n",
    "<font color = 'red'><h5>And all Mann-Kendall tests return a named tuple which contained:</h5></font>\n",
    "\n",
    "* trend: tells the trend (increasing, decreasing or no trend)\n",
    "* h: True (if trend is present) or False (if the trend is absence)\n",
    "* p: p-value of the significance test\n",
    "* z: normalized test statistics\n",
    "* Tau: Kendall Tau\n",
    "* s: Mann-Kendal's score\n",
    "* var_s: Variance S\n",
    "* slope: Theil-Sen estimator/slope\n",
    "* intercept: intercept of Kendall-Theil Robust Line, for seasonal test, full period cycle consider as unit time step\n",
    "\n",
    "\n",
    "<font color = 'blue'>sen's slope function required data vector. seasonal sen's slope also has optional input period, which by the default value is 12. Both sen's slope function return only slope value.</blue>\n",
    "\n",
    "\n",
    "<font color = 'red'><h2>Installation</h2></font>\n",
    "pip install pymannkendall"
   ]
  },
  {
   "cell_type": "code",
   "execution_count": null,
   "id": "4c7ab4e9",
   "metadata": {},
   "outputs": [],
   "source": [
    "import pymannkendall as mk\n",
    "# ['trend','h','p','z','Tau','s','var_s','slope','intercept']"
   ]
  },
  {
   "cell_type": "code",
   "execution_count": null,
   "id": "d965f41e",
   "metadata": {},
   "outputs": [],
   "source": [
    "mk.original_test(\n",
    "    df_RR_anom\n",
    ")"
   ]
  },
  {
   "cell_type": "markdown",
   "id": "ff072189",
   "metadata": {},
   "source": [
    "# Assess Mann-Kendall Test on Multi-Dimensional Data "
   ]
  },
  {
   "cell_type": "code",
   "execution_count": null,
   "id": "c7da1e7f",
   "metadata": {},
   "outputs": [],
   "source": [
    "MK_stats = df_RR.apply(lambda x: mk.original_test(x))\n",
    "MK_stats.index = ['trend','h','p','z','Tau','s','var_s','slope','intercept']\n",
    "MK_stats"
   ]
  },
  {
   "cell_type": "markdown",
   "id": "6fd64d8b",
   "metadata": {},
   "source": [
    "# Here, we stack the data and index as datetime. With this, we can resample on different temporal groupings and (re-)apply our MK function.   "
   ]
  },
  {
   "cell_type": "code",
   "execution_count": null,
   "id": "41e398d8",
   "metadata": {},
   "outputs": [],
   "source": [
    "df_RR_ts = pd.DataFrame(\n",
    "    df_RR.to_numpy().flatten(),\n",
    "    index=pd.date_range('1901-01','2015-12', freq='MS'),\n",
    "    columns=['RR']\n",
    ")"
   ]
  },
  {
   "cell_type": "code",
   "execution_count": null,
   "id": "7f44735f",
   "metadata": {},
   "outputs": [],
   "source": [
    "mk.original_test(\n",
    "    df_RR_ts.resample('2QS-Dec').mean()\n",
    ")"
   ]
  },
  {
   "cell_type": "code",
   "execution_count": null,
   "id": "f54149e4",
   "metadata": {},
   "outputs": [],
   "source": [
    "df_RR_ts.resample('2QS-Dec').mean().plot()"
   ]
  },
  {
   "cell_type": "markdown",
   "id": "717f5d7b",
   "metadata": {},
   "source": [
    "# Let's Visualize a Combination of Temporal Groupings\n",
    "\n"
   ]
  },
  {
   "cell_type": "code",
   "execution_count": null,
   "id": "995aab40",
   "metadata": {},
   "outputs": [],
   "source": [
    "fig, axes = plt.subplots(ncols=2, figsize=(15,5))\n",
    "\n",
    "ax = axes[0]\n",
    "df_RR_ts.plot(color='k', linestyle='--', label='raw', legend=False, ax=ax)\n",
    "df_RR_ts.resample('2QS-Dec').mean().plot(color='r', linestyle='-', label='2QS-Dec', legend=False, ax=ax)\n",
    "\n",
    "ax.legend()\n",
    "\n",
    "\n",
    "\n",
    "ax=axes[1]\n",
    "df_RR_ts.resample('Y').mean().plot(color='g', linestyle='-', label='Y', legend=False, ax=ax)\n",
    "df_RR_ts.resample('10Y').mean().plot(color='b', linestyle='-', label='Decade', legend=False, ax=ax)\n",
    "\n",
    "ax.legend()"
   ]
  },
  {
   "cell_type": "code",
   "execution_count": null,
   "id": "5c1c4970",
   "metadata": {},
   "outputs": [],
   "source": [
    "df_RR"
   ]
  },
  {
   "cell_type": "markdown",
   "id": "dd19ff46",
   "metadata": {},
   "source": [
    "<br />\n",
    "<br />\n",
    "<br />\n",
    "<br />\n",
    "\n",
    "\n",
    "\n",
    "\n",
    "# Spatial Statistics"
   ]
  },
  {
   "attachments": {
    "image.png": {
     "image/png": "[encoded data removed]"
    }
   },
   "cell_type": "markdown",
   "id": "240c40a7",
   "metadata": {},
   "source": [
    "![image.png](attachment:image.png)"
   ]
  },
  {
   "cell_type": "markdown",
   "id": "a4b9a790",
   "metadata": {},
   "source": [
    "# Details on Xarray: <a href=\"https://earth-env-data-science.github.io/lectures/xarray/xarray_intro.html\"> https://earth-env-data-science.github.io/lectures/xarray/xarray_intro.html </a>"
   ]
  },
  {
   "cell_type": "code",
   "execution_count": null,
   "id": "30c2a730",
   "metadata": {},
   "outputs": [],
   "source": [
    "import xarray as xr"
   ]
  },
  {
   "cell_type": "code",
   "execution_count": null,
   "id": "39a3a5d6",
   "metadata": {},
   "outputs": [],
   "source": [
    "ds_Data = xr.open_dataset('data/rainfall.nc')\n",
    "RR = ds_Data['pr'] * 86400"
   ]
  },
  {
   "cell_type": "markdown",
   "id": "aa22cdee",
   "metadata": {},
   "source": [
    "# Similar to the temporal statistics, we estimate the pre-industrial and industrial climatologies and auxiliary descriptive statistics."
   ]
  },
  {
   "cell_type": "code",
   "execution_count": null,
   "id": "08405702",
   "metadata": {},
   "outputs": [],
   "source": [
    "fig, axes = plt.subplots(ncols=3, nrows=3, figsize=(18,14))\n",
    "plt.subplots_adjust(hspace=0.5)\n",
    "\n",
    "\n",
    "\n",
    "ax = axes[0, 0]\n",
    "RR.sel(time=slice('1850','1960')).mean('time').plot(ax = ax)\n",
    "ax.set_title('Climatological Mean', fontsize=17)\n",
    "\n",
    "ax = axes[0, 1]\n",
    "RR.sel(time=slice('1850','1960')).std('time').plot(ax = ax)\n",
    "ax.set_title('Standard Deviation', fontsize=17)\n",
    "\n",
    "\n",
    "ax = axes[0, 2]\n",
    "RR.sel(time=slice('1850','1960')).reduce(np.nanpercentile, q=99, dim='time').plot(ax = ax)\n",
    "ax.set_title('99th Percentile', fontsize=17)\n",
    "\n",
    "\n",
    "\n",
    "\n",
    "\n",
    "ax = axes[1, 0]\n",
    "RR.sel(time=slice('1961','2020')).mean('time').plot(ax = ax)\n",
    "\n",
    "ax = axes[1, 1]\n",
    "RR.sel(time=slice('1961','2020')).std('time').plot(ax = ax)\n",
    "\n",
    "\n",
    "ax = axes[1, 2]\n",
    "RR.sel(time=slice('1961','2020')).reduce(np.nanpercentile, q=99, dim='time').plot(ax = ax)\n",
    "\n",
    "\n",
    "\n",
    "#### Differences\n",
    "ax = axes[2, 0]\n",
    "( RR.sel(time=slice('1961','2020')).mean('time') - RR.sel(time=slice('1850','1960')).mean('time') ).plot(ax = ax, cmap='RdBu')\n",
    "\n",
    "\n",
    "ax = axes[2, 1]\n",
    "( RR.sel(time=slice('1961','2020')).std('time') - RR.sel(time=slice('1850','1960')).std('time') ).plot(ax = ax, cmap='RdBu')\n",
    "\n",
    "ax = axes[2, 2]\n",
    "( RR.sel(time=slice('1961','2020')).reduce(np.nanpercentile, q=99, dim='time') - RR.sel(time=slice('1850','1960')).reduce(np.nanpercentile, q=99, dim='time') ).plot(ax = ax, cmap='RdBu')"
   ]
  },
  {
   "cell_type": "markdown",
   "id": "6f8f842b",
   "metadata": {},
   "source": [
    "# MK-trend test on Spatial/Gridded Data"
   ]
  },
  {
   "cell_type": "code",
   "execution_count": null,
   "id": "8f15caa0",
   "metadata": {},
   "outputs": [],
   "source": [
    "MK_spatial_slope = xr.apply_ufunc(\n",
    "    lambda x: mk.original_test(x).slope, \n",
    "    RR.sel(time=slice('2000','2001')), \n",
    "    input_core_dims=[['time']], \n",
    "    vectorize=True)"
   ]
  },
  {
   "cell_type": "code",
   "execution_count": null,
   "id": "f12343e1",
   "metadata": {},
   "outputs": [],
   "source": [
    "MK_spatial_slope.plot(cmap='terrain_r')"
   ]
  },
  {
   "cell_type": "code",
   "execution_count": null,
   "id": "df2b0f1f",
   "metadata": {},
   "outputs": [],
   "source": [
    "MK_spatial_sig_search = xr.apply_ufunc(\n",
    "    lambda x: mk.original_test(x).p, \n",
    "    RR.sel(time=slice('2000','2001')), \n",
    "    input_core_dims=[['time']], \n",
    "    vectorize=True)"
   ]
  },
  {
   "cell_type": "markdown",
   "id": "1556dc9a",
   "metadata": {},
   "source": [
    "# Visualising Significant Trends"
   ]
  },
  {
   "cell_type": "code",
   "execution_count": null,
   "id": "d6f5b7c2",
   "metadata": {},
   "outputs": [],
   "source": [
    "sig_level = 99.9\n",
    "p = (100-sig_level)/100\n",
    "MK_spatial_sig = MK_spatial_sig_search.where(MK_spatial_sig<p).where(MK_spatial_sig_search>=p, 1)\n",
    "#MK_spatial_sig.plot(cmap='terrain_r')\n"
   ]
  },
  {
   "cell_type": "code",
   "execution_count": null,
   "id": "34f88a55",
   "metadata": {},
   "outputs": [],
   "source": [
    "# Create A Meshgrid of longitudes and latitutdes\n",
    "\n",
    "X,Y = np.meshgrid(MK_spatial_sig_search.lon, MK_spatial_sig_search.lat)\n",
    "x = X.flatten() ;   y = Y.flatten()\n",
    "z = MK_spatial_sig.to_numpy().flatten()   #Flatten the p values\n",
    "\n",
    "\n",
    "\n",
    "\n",
    "fig, axes = plt.subplots(figsize=(8,5))\n",
    "MK_spatial_slope.plot(cmap='Greens', ax = axes)\n",
    "axes.scatter(x,y,100*z, 'r', marker='+')\n",
    "\n",
    "axes.set_xlim(-10,10)\n",
    "axes.set_ylim(-5,15)\n"
   ]
  },
  {
   "cell_type": "markdown",
   "id": "4cbc7f5f",
   "metadata": {},
   "source": [
    "<br />\n",
    "<br />\n",
    "<br />\n",
    "<br />\n",
    "<br />\n",
    "\n",
    "\n",
    "\n",
    "# <font color='red'>PART II</red>\n",
    "# Correlation, Causality & Attribution\n",
    "\n",
    "<img align='right' width='500px' src='img/corr.png' />"
   ]
  },
  {
   "cell_type": "markdown",
   "id": "d6bedb0f",
   "metadata": {},
   "source": [
    "# <a href=\"https://towardsdatascience.com/clearly-explained-pearson-v-s-spearman-correlation-coefficient-ada2f473b8\">Some Correlation Metrics  (from Scipy)</a>\n",
    "\n",
    "<font color='red'><h3>1. Pearson Correlation Coefficient</h3></font>\n",
    "Pearson’s r or the bivariate correlation is a statistic that measures the linear correlation between two continuous variables X and Y. It has a value between -1 and +1. A value of +1 is a total positive linear correlation, 0 is no linear correlation, and −1 is a total negative linear correlation. A relationship is linear when a change in one variable is associated with a proportional change in the other variable.\n",
    "\n",
    "\n",
    "\n",
    "<font color='red'><h3>2. Spearman Correlation Coefficient</h3></font>\n",
    "It is a nonparametric measure of rank correlation (statistical dependence between the rankings of two variables). It assesses how well the relationship between two variables can be described using a monotonic function."
   ]
  },
  {
   "cell_type": "code",
   "execution_count": null,
   "id": "496ebb97",
   "metadata": {},
   "outputs": [],
   "source": [
    "from scipy import stats"
   ]
  },
  {
   "cell_type": "code",
   "execution_count": null,
   "id": "9cc6e1cc",
   "metadata": {},
   "outputs": [],
   "source": [
    "def pearson_corr(x,y):\n",
    "    from scipy import stats\n",
    "    return stats.pearsonr(x,y)\n",
    "\n",
    "\n",
    "def spearman_rank_corr(x,y):\n",
    "    from scipy import stats\n",
    "    return stats.spearmanr(x,y)\n"
   ]
  },
  {
   "cell_type": "code",
   "execution_count": null,
   "id": "9204bfb4",
   "metadata": {},
   "outputs": [],
   "source": [
    "df_data_cor = pd.read_csv('data/rr_temp_rh_24_30May21.csv')\n",
    "df_data_cor.head(5)"
   ]
  },
  {
   "cell_type": "code",
   "execution_count": null,
   "id": "8ecd71fa",
   "metadata": {},
   "outputs": [],
   "source": [
    "ds_rain = df_data_cor['rr']\n",
    "ds_temp = round( \n",
    "    df_data_cor[['tx','tn']].mean(axis=1)\n",
    "    , 2)"
   ]
  },
  {
   "cell_type": "code",
   "execution_count": null,
   "id": "c76535d8",
   "metadata": {},
   "outputs": [],
   "source": [
    "pearson_corr( ds_rain, ds_temp )"
   ]
  },
  {
   "cell_type": "code",
   "execution_count": null,
   "id": "a8604055",
   "metadata": {},
   "outputs": [],
   "source": [
    "spearman_rank_corr(ds_rain,ds_temp)"
   ]
  },
  {
   "cell_type": "markdown",
   "id": "2f2e1892",
   "metadata": {},
   "source": [
    "<font color='red'><h1> Spatial Correlation </h1></font>"
   ]
  },
  {
   "cell_type": "markdown",
   "id": "933e4b35",
   "metadata": {},
   "source": [
    "# Let's Perform Correlational Assessments Between Two .nc Files"
   ]
  },
  {
   "cell_type": "code",
   "execution_count": null,
   "id": "0e94b936",
   "metadata": {},
   "outputs": [],
   "source": [
    "import xarray as xr\n",
    "from scipy import stats\n",
    "import matplotlib.pyplot as plt"
   ]
  },
  {
   "cell_type": "markdown",
   "id": "884ac96b",
   "metadata": {},
   "source": [
    "# Read CRU and CMIP Rainfall Data"
   ]
  },
  {
   "cell_type": "code",
   "execution_count": null,
   "id": "3c8b2081",
   "metadata": {},
   "outputs": [],
   "source": [
    "ds_cru = xr.open_dataset('data/cru_ts4.05.1901.2020.pre.dat.nc')['pre']\n",
    "da_cru_pre = ds_cru.sel(time=slice('1990','2000'), lon=slice(-3.5, 1.5), lat=slice(4.5, 12) )\n",
    "\n",
    "\n",
    "da_cmip = xr.open_dataset('data/rainfall.nc')['pr'] * 86400\n",
    "da_cmip_pre = da_cmip.sel(time=slice('1990','2000'), lon=slice(-3.5, 2), lat=slice(4.5, 12) )"
   ]
  },
  {
   "cell_type": "markdown",
   "id": "94ca3b77",
   "metadata": {},
   "source": [
    "# Let's Resample CMIP data to monthly time resolutions since CRU is also monthly, to enable easy correlation assessment\n"
   ]
  },
  {
   "cell_type": "code",
   "execution_count": null,
   "id": "997eb4fa",
   "metadata": {},
   "outputs": [],
   "source": [
    "da_cmip_pre = da_cmip_pre.resample(time='MS').sum('time')\n",
    "da_cru_pre = da_cru_pre.resample(time='MS').sum('time')\n"
   ]
  },
  {
   "cell_type": "markdown",
   "id": "7de8b9da",
   "metadata": {},
   "source": [
    "# For easy grid-by-grid assessment, we regrid all onto a higher resolution, which is 0.5 based on CRU. The other way is also possible."
   ]
  },
  {
   "cell_type": "code",
   "execution_count": null,
   "id": "37be4b0a",
   "metadata": {},
   "outputs": [],
   "source": [
    "da_cmip_pre_grid = da_cmip_pre.interp(lat=da_cru_pre.lat, lon = da_cru_pre.lon) # specify calculation"
   ]
  },
  {
   "cell_type": "markdown",
   "id": "52877e4a",
   "metadata": {},
   "source": [
    "# Now, The Correlation Assessment\n",
    "# Option 1 (Point  -  Correlation)"
   ]
  },
  {
   "cell_type": "code",
   "execution_count": null,
   "id": "9804f16a",
   "metadata": {},
   "outputs": [],
   "source": [
    "da_cru_pre.sel(lon=0, lat=7, method='nearest').plot()\n",
    "da_cmip_pre.sel(lon=0, lat=7, method='nearest').plot()"
   ]
  },
  {
   "cell_type": "code",
   "execution_count": null,
   "id": "bee3cae7",
   "metadata": {},
   "outputs": [],
   "source": [
    "# This option has challenges with nans\n",
    "xr.corr(da_cru_pre.sel(lon=0, lat=7, method='nearest'),da_cmip_pre.sel(lon=0, lat=7, method='nearest'), dim='time')"
   ]
  },
  {
   "cell_type": "markdown",
   "id": "d16d98f4",
   "metadata": {},
   "source": [
    "# Option 2 (Point Correlation)"
   ]
  },
  {
   "cell_type": "code",
   "execution_count": null,
   "id": "1bbaa0ec",
   "metadata": {},
   "outputs": [],
   "source": [
    "r_pc = xr.apply_ufunc(pearson_corr, da_cru_pre.sel(lon=0, lat=7, method='nearest'),da_cmip_pre.sel(lon=0, lat=7, method='nearest'),\n",
    "                input_core_dims=[['time'],['time']])\n",
    "\n",
    "r_pc"
   ]
  },
  {
   "cell_type": "code",
   "execution_count": null,
   "id": "19fc547a",
   "metadata": {},
   "outputs": [],
   "source": [
    "r_sc = xr.apply_ufunc(spearman_rank_corr, da_cru_pre.sel(lon=0, lat=7, method='nearest'),da_cmip_pre.sel(lon=0, lat=7, method='nearest'),\n",
    "                input_core_dims=[['time'],['time']])\n",
    "\n",
    "r_sc"
   ]
  },
  {
   "cell_type": "markdown",
   "id": "2c72fed7",
   "metadata": {},
   "source": [
    "<h2> <font color='red'>The above produces both the correlation and its significance value, and can be easily applied on a multi-dimensional set along a defined dimension (eg. time)</font></h2>"
   ]
  },
  {
   "cell_type": "markdown",
   "id": "631beb59",
   "metadata": {},
   "source": [
    "# Alternatively, this can be achieved with the lambda expression"
   ]
  },
  {
   "cell_type": "code",
   "execution_count": null,
   "id": "0c7e2d79",
   "metadata": {},
   "outputs": [],
   "source": [
    "r_spearman = xr.apply_ufunc(lambda x,y: spearman_rank_corr(x,y)[0], da_cru_pre.sel(lon=0, lat=7, method='nearest'),da_cmip_pre.sel(lon=0, lat=7, method='nearest'),\n",
    "                input_core_dims=[['time'],['time']])\n",
    "\n",
    "r_spearman_sig = xr.apply_ufunc(lambda x,y: spearman_rank_corr(x,y)[1], da_cru_pre.sel(lon=0, lat=7, method='nearest'),da_cmip_pre.sel(lon=0, lat=7, method='nearest'),\n",
    "                input_core_dims=[['time'],['time']])\n",
    "\n",
    "\n",
    "print(r_spearman.values, r_spearman_sig.values)"
   ]
  },
  {
   "cell_type": "code",
   "execution_count": null,
   "id": "d0b9347b",
   "metadata": {},
   "outputs": [],
   "source": [
    "fig, axes = plt.subplots(ncols=2, figsize=(15,4))\n",
    "ax = axes[0]\n",
    "da_cru_pre.sel(lon=0, lat=7, method='nearest').plot(ax = ax)\n",
    "da_cmip_pre.sel(lon=0, lat=7, method='nearest').plot(ax = ax)\n",
    "\n",
    "\n",
    "ax.text(\n",
    "    pd.DatetimeIndex(da_cmip_pre['time'].values).min(), \n",
    "    280, \n",
    "    'r = {:.2f}, sig. = {:.2e}'.format(r_spearman.values, r_spearman_sig.values) , \n",
    "         fontsize=15)\n",
    "\n",
    "\n",
    "ax = axes[1]\n",
    "ax.scatter(\n",
    "    da_cru_pre.sel(lon=0, lat=7, method='nearest'),\n",
    "    da_cmip_pre.sel(lon=0, lat=7, method='nearest'),\n",
    "    30, 'k'\n",
    ")\n",
    "\n",
    "ax.plot(range(300), color='r')\n",
    "\n",
    "ax.text(\n",
    "    0, \n",
    "    280, \n",
    "    'r = {:.2f}, sig. = {:.2e}'.format(r_spearman.values, r_spearman_sig.values) , \n",
    "         fontsize=15)\n"
   ]
  },
  {
   "cell_type": "markdown",
   "id": "d23dc60e",
   "metadata": {},
   "source": [
    "# We perform same on the gridded data"
   ]
  },
  {
   "cell_type": "code",
   "execution_count": null,
   "id": "ebf8483d",
   "metadata": {},
   "outputs": [],
   "source": [
    "r_spearman_grid = xr.apply_ufunc(lambda x,y: spearman_rank_corr(x,y)[0], \n",
    "                            da_cru_pre, da_cmip_pre_grid,\n",
    "                input_core_dims=[['time'],['time']],\n",
    "        dask='parallelized', vectorize=True)\n",
    "\n",
    "\n",
    "\n",
    "r_spearman_sig_grid = xr.apply_ufunc(lambda x,y: spearman_rank_corr(x,y)[1], \n",
    "                            da_cru_pre, da_cmip_pre_grid,\n",
    "                input_core_dims=[['time'],['time']],\n",
    "        dask='parallelized', vectorize=True)"
   ]
  },
  {
   "cell_type": "code",
   "execution_count": null,
   "id": "d26375ec",
   "metadata": {},
   "outputs": [],
   "source": [
    "r_spearman_grid.where(r_spearman_sig_grid<1*10**-7).plot()"
   ]
  },
  {
   "cell_type": "code",
   "execution_count": null,
   "id": "2f2000c2",
   "metadata": {},
   "outputs": [],
   "source": [
    "r_spearman_sig_grid.max()"
   ]
  },
  {
   "cell_type": "markdown",
   "id": "76d95e9f",
   "metadata": {},
   "source": [
    "# Causality\n",
    "<h4>In statistics, causation is a bit tricky. As you’ve no doubt heard, correlation doesn’t necessarily imply causation. An association or correlation between variables simply indicates that the values vary together. It does not necessarily suggest that changes in one variable cause changes in the other variable. Proving causality can be difficult. </h4>\n",
    "\n",
    "# Installation : <font color='red'>pip install causality</font>"
   ]
  },
  {
   "cell_type": "code",
   "execution_count": null,
   "id": "5bd7341a",
   "metadata": {},
   "outputs": [],
   "source": [
    "#!pip install causality"
   ]
  },
  {
   "cell_type": "code",
   "execution_count": null,
   "id": "a12f8888",
   "metadata": {},
   "outputs": [],
   "source": [
    "import causality"
   ]
  },
  {
   "cell_type": "code",
   "execution_count": null,
   "id": "0f95504d",
   "metadata": {},
   "outputs": [],
   "source": [
    "help(causality)"
   ]
  },
  {
   "cell_type": "code",
   "execution_count": null,
   "id": "03115ca6",
   "metadata": {},
   "outputs": [],
   "source": [
    "import numpy\n",
    "import pandas as pd\n",
    "\n",
    "from causality.inference.search import IC\n",
    "from causality.inference.independence_tests import RobustRegressionTest\n",
    "\n",
    "# generate some toy data:\n",
    "SIZE = 2000\n",
    "x1 = numpy.random.normal(size=SIZE)\n",
    "x2 = x1 + numpy.random.normal(size=SIZE)\n",
    "x3 = x1 + numpy.random.normal(size=SIZE)\n",
    "x4 = x2 + x3 + numpy.random.normal(size=SIZE)\n",
    "x5 = x4 + numpy.random.normal(size=SIZE)\n",
    "\n",
    "# load the data into a dataframe:\n",
    "X = pd.DataFrame({'x1' : x1, 'x2' : x2, 'x3' : x3, 'x4' : x4, 'x5' : x5})\n",
    "\n",
    "# define the variable types: 'c' is 'continuous'.  The variables defined here\n",
    "# are the ones the search is performed over  -- NOT all the variables defined\n",
    "# in the data frame.\n",
    "variable_types = {'x1' : 'c', 'x2' : 'c', 'x3' : 'c', 'x4' : 'c', 'x5' : 'c'}\n",
    "\n",
    "# run the search\n",
    "ic_algorithm = IC(RobustRegressionTest)\n",
    "graph = ic_algorithm.search(X, variable_types)"
   ]
  },
  {
   "cell_type": "code",
   "execution_count": null,
   "id": "69fce205",
   "metadata": {},
   "outputs": [],
   "source": [
    "graph.get_edge_data()"
   ]
  },
  {
   "cell_type": "code",
   "execution_count": null,
   "id": "1deca845",
   "metadata": {},
   "outputs": [],
   "source": [
    "df_data_cor.head()"
   ]
  },
  {
   "cell_type": "code",
   "execution_count": null,
   "id": "252aa45e",
   "metadata": {},
   "outputs": [],
   "source": [
    "df_data4causality = df_data_cor[['rr','tx','tn','rh']] \n",
    "df_data4causality.head()"
   ]
  },
  {
   "cell_type": "code",
   "execution_count": null,
   "id": "a5d2697e",
   "metadata": {},
   "outputs": [],
   "source": [
    "from causality.inference.search import IC\n",
    "from causality.inference.independence_tests import RobustRegressionTest\n",
    "\n",
    "# define the variable types: 'c' is 'continuous'.  The variables defined here\n",
    "# are the ones the search is performed over  -- NOT all the variables defined\n",
    "# in the data frame.\n",
    "variable_types = {'rr' : 'c', 'tx' : 'c', 'tn' : 'c', 'rh' : 'c'}\n",
    "\n",
    "# run the search\n",
    "ic_algorithm = IC(RobustRegressionTest)\n",
    "graph = ic_algorithm.search(df_data4causality, variable_types)"
   ]
  },
  {
   "cell_type": "code",
   "execution_count": null,
   "id": "bb0d05d2",
   "metadata": {},
   "outputs": [],
   "source": [
    "ic_algorithm.separating_set"
   ]
  },
  {
   "cell_type": "code",
   "execution_count": null,
   "id": "4fa0949b",
   "metadata": {},
   "outputs": [],
   "source": []
  },
  {
   "cell_type": "code",
   "execution_count": null,
   "id": "ae4f2187",
   "metadata": {},
   "outputs": [],
   "source": []
  },
  {
   "cell_type": "markdown",
   "id": "7efdb0d5",
   "metadata": {},
   "source": [
    "<br />\n",
    "<br />\n",
    "<br />\n",
    "<br />\n",
    "<br />\n",
    "\n",
    "\n",
    "# <a href=\"https://splot.readthedocs.io/en/latest/installation.html\"> <font color='red'> Moran's Scatterplot </font> </a>\n",
    "\n",
    "<h3> A plot of spatial data against its spatially lagged values, augmented by reporting the summary of influence measures for the linear relationship between the data and the lag. </h3>\n",
    "\n",
    "\n",
    "\n",
    "# It's syntax : https://splot.readthedocs.io/en/latest/generated/splot.esda.moran_scatterplot.html\n",
    "\n",
    "\n",
    "# Pip Installation:  <font color='red'>pip install splot</font>"
   ]
  },
  {
   "cell_type": "code",
   "execution_count": null,
   "id": "f02e0417",
   "metadata": {},
   "outputs": [],
   "source": [
    "#!pip install splot  "
   ]
  },
  {
   "cell_type": "markdown",
   "id": "a41b4981",
   "metadata": {},
   "source": [
    "# Load Packages"
   ]
  },
  {
   "cell_type": "code",
   "execution_count": null,
   "id": "0eaf3145",
   "metadata": {},
   "outputs": [],
   "source": [
    "from libpysal.weights.contiguity import Queen  \n",
    "#Construct a weights object from a pandas dataframe with a geometry column. This will cast the polygons to PySAL polygons, then build the W using ids from the dataframe.\n",
    "from libpysal import examples   #Load example dataset instance.\n",
    "import geopandas as gpd\n",
    "from esda.moran import (Moran, Moran_BV,\n",
    "                        Moran_Local, Moran_Local_BV)\n",
    "from splot.esda import moran_scatterplot"
   ]
  },
  {
   "cell_type": "markdown",
   "id": "07d43289",
   "metadata": {},
   "source": [
    "# Load sample data"
   ]
  },
  {
   "cell_type": "code",
   "execution_count": null,
   "id": "b965dbf6",
   "metadata": {},
   "outputs": [],
   "source": [
    "guerry = examples.load_example('Guerry')\n",
    "link_to_data = guerry.get_path('guerry.shp')\n",
    "gdf = gpd.read_file(link_to_data)      # Returns a GeoDataFrame from a file or URL.\n",
    "x = gdf['Suicids'].values\n",
    "y = gdf['Donatns'].values\n"
   ]
  },
  {
   "cell_type": "markdown",
   "id": "16fa5f2b",
   "metadata": {},
   "source": [
    "# Calculate weights"
   ]
  },
  {
   "cell_type": "code",
   "execution_count": null,
   "id": "345b8aa4",
   "metadata": {},
   "outputs": [],
   "source": [
    "w = Queen.from_dataframe(gdf)   #Construct a weights object from a pandas dataframe with a geometry column. \n",
    "w.transform = 'r'"
   ]
  },
  {
   "cell_type": "markdown",
   "id": "99501191",
   "metadata": {},
   "source": [
    "# Visualize any column of the data that has been geo-referenced."
   ]
  },
  {
   "cell_type": "code",
   "execution_count": null,
   "id": "b75834cc",
   "metadata": {},
   "outputs": [],
   "source": [
    "fig, axes = plt.subplots(ncols=2, figsize=(15,4))\n",
    "gdf[['Suicids','geometry']].plot(vmax=10000, cmap='terrain_r', ax=axes[0])\n",
    "\n",
    "gdf[['Suicids','geometry']].plot.kde(ax = axes[1])"
   ]
  },
  {
   "cell_type": "code",
   "execution_count": null,
   "id": "c7293e5e",
   "metadata": {},
   "outputs": [],
   "source": [
    "fig, axes = plt.subplots(ncols=2, figsize=(15,4))\n",
    "gdf[['Donatns','geometry']].plot(vmax=10000, cmap='terrain_r', ax=axes[0])\n",
    "\n",
    "gdf[['Donatns','geometry']].plot.kde(ax = axes[1])"
   ]
  },
  {
   "cell_type": "markdown",
   "id": "75212400",
   "metadata": {},
   "source": [
    "# Calculate esda.moran Objects"
   ]
  },
  {
   "cell_type": "code",
   "execution_count": null,
   "id": "d6570eb7",
   "metadata": {},
   "outputs": [],
   "source": [
    "moran = Moran(y, w)                       # Moran's I Global Autocorrelation Statistic\n",
    "moran_bv = Moran_BV(y, x, w)              # Bivariate Moran's I\n",
    "moran_loc = Moran_Local(y, w)             # Local Moran Statistics\n",
    "moran_loc_bv = Moran_Local_BV(y, x, w)    # Bivariate Local Moran Statistics"
   ]
  },
  {
   "cell_type": "markdown",
   "id": "b8942dc9",
   "metadata": {},
   "source": [
    "# Visualize The Moran's Scatterplot"
   ]
  },
  {
   "cell_type": "code",
   "execution_count": null,
   "id": "75e6b4f8",
   "metadata": {},
   "outputs": [],
   "source": [
    "fig, axs = plt.subplots(2, 2, figsize=(10,10), subplot_kw={'aspect': 'equal'})\n",
    "plt.subplots_adjust(wspace=0.15, hspace=0.1)\n",
    "\n",
    "moran_scatterplot(moran, ax=axs[0,0])       #zstandard=True, \n",
    "moran_scatterplot(moran_loc, p=0.05, ax=axs[1,0])\n",
    "moran_scatterplot(moran_bv, ax=axs[0,1])\n",
    "moran_scatterplot(moran_loc_bv, p=0.05, ax=axs[1,1])\n",
    "\n",
    "plt.suptitle('\\n\\nMoran\\'s Scatterplot', fontsize=20)"
   ]
  },
  {
   "cell_type": "markdown",
   "id": "0f4bcbd4",
   "metadata": {},
   "source": [
    "# <font color='red'>Trial Example</font>\n",
    "    - Implement the Moran's scatterplot on data from any defined region"
   ]
  },
  {
   "cell_type": "code",
   "execution_count": null,
   "id": "a27ab787",
   "metadata": {},
   "outputs": [],
   "source": []
  },
  {
   "cell_type": "markdown",
   "id": "53a128a1",
   "metadata": {},
   "source": [
    "<h1><font color='red'> PART III (Verification Metrics |<font color='blue'>Climate Application</font> )</font> </h1>"
   ]
  },
  {
   "cell_type": "markdown",
   "id": "a2b598f7",
   "metadata": {},
   "source": [
    "# VERIF\n",
    "\n",
    "<h3> works via the command-line. We therefore need to run it here as on the command-line, preceding its command with the exclamation sign (!). </h3>\n",
    "\n",
    "\n",
    "# Installation : <font color='red'>pip install verif</font>\n",
    "\n",
    "\n",
    "# Find extra info in the <font color='red'>verif-help file</font>"
   ]
  },
  {
   "cell_type": "code",
   "execution_count": null,
   "id": "8e6a6055",
   "metadata": {},
   "outputs": [],
   "source": [
    "#!pip install verif"
   ]
  },
  {
   "cell_type": "code",
   "execution_count": null,
   "id": "8faba0dc",
   "metadata": {},
   "outputs": [],
   "source": [
    "pwd      #Present Working Directory"
   ]
  },
  {
   "cell_type": "markdown",
   "id": "2e9dd8cd",
   "metadata": {},
   "source": [
    "# Quicklook at the structure of the verif sample data"
   ]
  },
  {
   "cell_type": "code",
   "execution_count": null,
   "id": "5ef990cf",
   "metadata": {},
   "outputs": [],
   "source": [
    "a = pd.read_csv('data/verif_examples/sample_data', sep='\\t', skiprows=0, header=0)\n",
    "a.head()"
   ]
  },
  {
   "cell_type": "code",
   "execution_count": null,
   "id": "6ae676f7",
   "metadata": {},
   "outputs": [],
   "source": [
    "a = pd.read_csv('data/verif_examples/sample_data', sep='\\t', skiprows=2, header=0)\n",
    "a1 = a[['date','obs','fcst']]\n",
    "a1.to_csv('try.txt', sep='\\t')"
   ]
  },
  {
   "cell_type": "code",
   "execution_count": null,
   "id": "08be7715",
   "metadata": {},
   "outputs": [],
   "source": [
    "a"
   ]
  },
  {
   "cell_type": "code",
   "execution_count": null,
   "id": "cc327e82",
   "metadata": {},
   "outputs": [],
   "source": [
    "import verif\n",
    "from os.path import basename "
   ]
  },
  {
   "cell_type": "markdown",
   "id": "d8ebf0d6",
   "metadata": {},
   "source": [
    "# Implement Mean Absolute Error for 2 sample verif data_sets"
   ]
  },
  {
   "cell_type": "code",
   "execution_count": null,
   "id": "de1fa720",
   "metadata": {},
   "outputs": [],
   "source": [
    "!verif data/verif_examples/raw.txt data/verif_examples/kf.txt -m mae -f try.pdf"
   ]
  },
  {
   "cell_type": "markdown",
   "id": "40943ccf",
   "metadata": {},
   "source": [
    "# Accessing the manual/help on any verif item"
   ]
  },
  {
   "cell_type": "code",
   "execution_count": null,
   "id": "cdba453c",
   "metadata": {},
   "outputs": [],
   "source": [
    "!verif -m taylor"
   ]
  },
  {
   "cell_type": "markdown",
   "id": "3f777750",
   "metadata": {},
   "source": [
    "# Produce Taylor Diagrams from a verif file and save as PDF"
   ]
  },
  {
   "cell_type": "code",
   "execution_count": null,
   "id": "a75c3d81",
   "metadata": {},
   "outputs": [],
   "source": [
    "for files in ['data/verif_examples/sample_data','data/verif_examples/raw.txt']:\n",
    "    !verif $files -m taylor -fs 10,8 -f {basename(files)}.pdf -title (d)\n",
    "    #!verif $files -m error -xlim 0,100 -ylim -100,100 -fs 5,8 -f {basename(files)}.pdf -title (d)"
   ]
  },
  {
   "cell_type": "markdown",
   "id": "7d7e3968",
   "metadata": {},
   "source": [
    "# With IPython.display, the PDF can be opened as a Frame here"
   ]
  },
  {
   "cell_type": "code",
   "execution_count": null,
   "id": "32adaaf5",
   "metadata": {},
   "outputs": [],
   "source": [
    "from IPython.display import IFrame, display\n",
    "file = 'sample_data.pdf'\n",
    "IFrame(file, width=300, height=200)"
   ]
  },
  {
   "cell_type": "markdown",
   "id": "eb62d980",
   "metadata": {},
   "source": [
    "# Repeating the Procedure and saving to plot axes"
   ]
  },
  {
   "cell_type": "code",
   "execution_count": null,
   "id": "2510dafa",
   "metadata": {},
   "outputs": [],
   "source": [
    "import matplotlib.pyplot as plt\n",
    "import matplotlib.image as mpimg\n"
   ]
  },
  {
   "cell_type": "code",
   "execution_count": null,
   "id": "4f762b84",
   "metadata": {},
   "outputs": [],
   "source": [
    "# -xlim 0,6 examples/raw.txt\n",
    "fig, axes = plt.subplots(ncols=2, figsize=(15,8))\n",
    "for files in ['data/verif_examples/raw.txt', 'data/verif_examples/sample_data',]:\n",
    "    !verif $files -m taylor -fs 10,8 -f {basename(files)}.png \n",
    "    img = mpimg.imread(basename(files)+'.png')\n",
    "    axes[0].imshow(img)\n",
    "    axes[0].set_title('a \\n')\n",
    "    axes[0].set_axis_off()\n",
    "    \n",
    "    !verif $files -m error -fs 5,8 -f {basename(files)}.png \n",
    "    img = mpimg.imread(basename(files)+'.png')\n",
    "    axes[1].imshow(img)\n",
    "    axes[1].set_title('b \\n')\n",
    "    axes[1].set_axis_off()\n",
    "    \n",
    "    !del {basename(files)}.png"
   ]
  },
  {
   "cell_type": "markdown",
   "id": "56cf2f64",
   "metadata": {},
   "source": [
    "# HERE"
   ]
  },
  {
   "cell_type": "code",
   "execution_count": null,
   "id": "b6735b95",
   "metadata": {},
   "outputs": [],
   "source": [
    "!verif try.txt -m taylor -fs 10,8 -f try.pdf"
   ]
  },
  {
   "cell_type": "code",
   "execution_count": null,
   "id": "06a3851d",
   "metadata": {},
   "outputs": [],
   "source": [
    "def file2verif( obs, fcst, var='RR', unit='mm'):\n",
    "    pass"
   ]
  },
  {
   "cell_type": "code",
   "execution_count": null,
   "id": "a71f565b",
   "metadata": {},
   "outputs": [],
   "source": [
    "a = pd.read_csv('examples/sample_data', sep='\\t', skiprows=2, header=0)\n",
    "a = a[['date','obs','fcst']]\n",
    "\n",
    "var = 'RR'; unit = 'mm'\n",
    "a.loc[-3,'date'] = '# variable: '+var\n",
    "a.loc[-2,'date'] = '# units: '+unit\n",
    "a.loc[-1,:] = a.columns.values\n",
    "\n",
    "a = a.sort_index().reset_index().drop('index', axis=1)\n",
    "\n",
    "a.to_csv('try.txt', sep='\\t', header=False, index=False, )"
   ]
  },
  {
   "cell_type": "code",
   "execution_count": null,
   "id": "7d44d3b8",
   "metadata": {},
   "outputs": [],
   "source": [
    "!verif try.txt -m taylor -fs 10,8 -f try.png "
   ]
  },
  {
   "cell_type": "code",
   "execution_count": null,
   "id": "b856f5d8",
   "metadata": {},
   "outputs": [],
   "source": []
  },
  {
   "cell_type": "code",
   "execution_count": null,
   "id": "b6dcbafe",
   "metadata": {},
   "outputs": [],
   "source": [
    "p = '#\\tvariable:\\t{}\\t\\t\\t\\t\\t \\n\\\n",
    "#\\tunits:\\t${}$'.format('RR', 'mm')\n",
    "\n",
    "lines = ['Readme', 'How to write text files in Python']\n",
    "with open('readme.txt', 'w') as f:\n",
    "    f.write(p+'\\n')\n",
    "    \n",
    "    for d in a.values:\n",
    "        print(d)\n",
    "    f.write('\\n'.join(a))"
   ]
  },
  {
   "cell_type": "code",
   "execution_count": null,
   "id": "21befe72",
   "metadata": {},
   "outputs": [],
   "source": [
    "p = '#\\tvariable:\\t{}\\t\\t\\t\\t\\t \\n\\\n",
    "#\\tunits:\\t${}$'.format('RR', 'mm')\n",
    "\n",
    "pd.merge([pd.DataFrame([('#variable:','RR'),('#units:','mm')]), a], axis=1)"
   ]
  },
  {
   "cell_type": "code",
   "execution_count": null,
   "id": "700ecc9a",
   "metadata": {},
   "outputs": [],
   "source": [
    "a"
   ]
  },
  {
   "cell_type": "code",
   "execution_count": null,
   "id": "3b373840",
   "metadata": {},
   "outputs": [],
   "source": [
    "def change_df2verif_fmt(x):\n",
    "    pass"
   ]
  },
  {
   "cell_type": "code",
   "execution_count": null,
   "id": "77be6ecf",
   "metadata": {},
   "outputs": [],
   "source": [
    "ls"
   ]
  },
  {
   "cell_type": "code",
   "execution_count": null,
   "id": "1331e5f9",
   "metadata": {},
   "outputs": [],
   "source": []
  },
  {
   "cell_type": "code",
   "execution_count": null,
   "id": "4c0a37c2",
   "metadata": {},
   "outputs": [],
   "source": [
    "import splot"
   ]
  },
  {
   "cell_type": "code",
   "execution_count": null,
   "id": "73960225",
   "metadata": {},
   "outputs": [],
   "source": [
    "help(gpd)"
   ]
  },
  {
   "cell_type": "markdown",
   "id": "d1250667",
   "metadata": {},
   "source": [
    "# <font color='red'>THE END</font>\n",
    "# <font color='blue'>Thanks for Joining The Session </font>"
   ]
  }
 ],
 "metadata": {
  "kernelspec": {
   "display_name": "Python 3 (ipykernel)",
   "language": "python",
   "name": "python3"
  },
  "language_info": {
   "codemirror_mode": {
    "name": "ipython",
    "version": 3
   },
   "file_extension": ".py",
   "mimetype": "text/x-python",
   "name": "python",
   "nbconvert_exporter": "python",
   "pygments_lexer": "ipython3",
   "version": "3.8.12"
  }
 },
 "nbformat": 4,
 "nbformat_minor": 5
}
